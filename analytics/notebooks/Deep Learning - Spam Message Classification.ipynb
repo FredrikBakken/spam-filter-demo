{
 "cells": [
  {
   "cell_type": "markdown",
   "metadata": {},
   "source": [
    "# Spam Message Classification using Deep Learning\n",
    "\n",
    "Natural language processing (NLP) for classifying SMS-messages as spam or not spam, based on the SMS contents."
   ]
  },
  {
   "cell_type": "markdown",
   "metadata": {},
   "source": [
    "## Install the Required Libraries"
   ]
  },
  {
   "cell_type": "code",
   "execution_count": 1,
   "metadata": {},
   "outputs": [],
   "source": [
    "!pip3 install -q --upgrade numpy==1.19.2 pandas==1.1.2 matplotlib==3.3.2 scikit-learn==0.23.2 keras==2.4.0 pydot==1.4.1"
   ]
  },
  {
   "cell_type": "markdown",
   "metadata": {},
   "source": [
    "## Import Libraries"
   ]
  },
  {
   "cell_type": "code",
   "execution_count": 2,
   "metadata": {},
   "outputs": [
    {
     "name": "stderr",
     "output_type": "stream",
     "text": [
      "Using TensorFlow backend.\n"
     ]
    }
   ],
   "source": [
    "import numpy as np\n",
    "import pandas as pd\n",
    "import tensorflow as tf\n",
    "\n",
    "from collections import Counter\n",
    "\n",
    "from keras.preprocessing.text import Tokenizer\n",
    "from keras.preprocessing.sequence import pad_sequences\n",
    "from keras.layers import Embedding, LSTM, Dropout, Dense\n",
    "from keras.models import Sequential\n",
    "from keras.utils import to_categorical, plot_model\n",
    "\n",
    "from sklearn.model_selection import train_test_split\n",
    "\n",
    "import matplotlib.pyplot as plt\n",
    "%matplotlib inline"
   ]
  },
  {
   "cell_type": "markdown",
   "metadata": {},
   "source": [
    "## Load the Dataset"
   ]
  },
  {
   "cell_type": "code",
   "execution_count": 3,
   "metadata": {},
   "outputs": [
    {
     "data": {
      "text/html": [
       "<div>\n",
       "<style scoped>\n",
       "    .dataframe tbody tr th:only-of-type {\n",
       "        vertical-align: middle;\n",
       "    }\n",
       "\n",
       "    .dataframe tbody tr th {\n",
       "        vertical-align: top;\n",
       "    }\n",
       "\n",
       "    .dataframe thead th {\n",
       "        text-align: right;\n",
       "    }\n",
       "</style>\n",
       "<table border=\"1\" class=\"dataframe\">\n",
       "  <thead>\n",
       "    <tr style=\"text-align: right;\">\n",
       "      <th></th>\n",
       "      <th>label</th>\n",
       "      <th>message</th>\n",
       "    </tr>\n",
       "  </thead>\n",
       "  <tbody>\n",
       "    <tr>\n",
       "      <th>0</th>\n",
       "      <td>ham</td>\n",
       "      <td>Go until jurong point, crazy.. Available only ...</td>\n",
       "    </tr>\n",
       "    <tr>\n",
       "      <th>1</th>\n",
       "      <td>ham</td>\n",
       "      <td>Ok lar... Joking wif u oni...</td>\n",
       "    </tr>\n",
       "    <tr>\n",
       "      <th>2</th>\n",
       "      <td>spam</td>\n",
       "      <td>Free entry in 2 a wkly comp to win FA Cup fina...</td>\n",
       "    </tr>\n",
       "    <tr>\n",
       "      <th>3</th>\n",
       "      <td>ham</td>\n",
       "      <td>U dun say so early hor... U c already then say...</td>\n",
       "    </tr>\n",
       "    <tr>\n",
       "      <th>4</th>\n",
       "      <td>ham</td>\n",
       "      <td>Nah I don't think he goes to usf, he lives aro...</td>\n",
       "    </tr>\n",
       "  </tbody>\n",
       "</table>\n",
       "</div>"
      ],
      "text/plain": [
       "  label                                            message\n",
       "0   ham  Go until jurong point, crazy.. Available only ...\n",
       "1   ham                      Ok lar... Joking wif u oni...\n",
       "2  spam  Free entry in 2 a wkly comp to win FA Cup fina...\n",
       "3   ham  U dun say so early hor... U c already then say...\n",
       "4   ham  Nah I don't think he goes to usf, he lives aro..."
      ]
     },
     "execution_count": 3,
     "metadata": {},
     "output_type": "execute_result"
    }
   ],
   "source": [
    "sms_messages = pd.read_csv('../data/spam.csv', encoding='latin1')\n",
    "sms_messages = sms_messages.iloc[:, [0, 1]]\n",
    "sms_messages.columns = [\"label\", \"message\"]\n",
    "sms_messages.head()"
   ]
  },
  {
   "cell_type": "code",
   "execution_count": 4,
   "metadata": {},
   "outputs": [
    {
     "data": {
      "text/plain": [
       "(5572, 2)"
      ]
     },
     "execution_count": 4,
     "metadata": {},
     "output_type": "execute_result"
    }
   ],
   "source": [
    "sms_messages.shape"
   ]
  },
  {
   "cell_type": "markdown",
   "metadata": {},
   "source": [
    "## Exploratory Data Analysis"
   ]
  },
  {
   "cell_type": "markdown",
   "metadata": {},
   "source": [
    "### Label Count"
   ]
  },
  {
   "cell_type": "code",
   "execution_count": 5,
   "metadata": {},
   "outputs": [
    {
     "data": {
      "image/png": "[encoded data removed]",
      "text/plain": [
       "<Figure size 432x288 with 1 Axes>"
      ]
     },
     "metadata": {
      "needs_background": "light"
     },
     "output_type": "display_data"
    }
   ],
   "source": [
    "label_count = pd.value_counts(sms_messages[\"label\"], sort=True)\n",
    "label_count.plot(kind = \"bar\", color = [\"green\", \"red\"])\n",
    "plt.title(\"Label Count: Not Spam vs. Spam\")\n",
    "plt.show()"
   ]
  },
  {
   "cell_type": "markdown",
   "metadata": {},
   "source": [
    "### Message Uniqueness"
   ]
  },
  {
   "cell_type": "code",
   "execution_count": 6,
   "metadata": {},
   "outputs": [
    {
     "data": {
      "text/html": [
       "<div>\n",
       "<style scoped>\n",
       "    .dataframe tbody tr th:only-of-type {\n",
       "        vertical-align: middle;\n",
       "    }\n",
       "\n",
       "    .dataframe tbody tr th {\n",
       "        vertical-align: top;\n",
       "    }\n",
       "\n",
       "    .dataframe thead tr th {\n",
       "        text-align: left;\n",
       "    }\n",
       "\n",
       "    .dataframe thead tr:last-of-type th {\n",
       "        text-align: right;\n",
       "    }\n",
       "</style>\n",
       "<table border=\"1\" class=\"dataframe\">\n",
       "  <thead>\n",
       "    <tr>\n",
       "      <th></th>\n",
       "      <th colspan=\"4\" halign=\"left\">message</th>\n",
       "    </tr>\n",
       "    <tr>\n",
       "      <th></th>\n",
       "      <th>count</th>\n",
       "      <th>unique</th>\n",
       "      <th>top</th>\n",
       "      <th>freq</th>\n",
       "    </tr>\n",
       "    <tr>\n",
       "      <th>label</th>\n",
       "      <th></th>\n",
       "      <th></th>\n",
       "      <th></th>\n",
       "      <th></th>\n",
       "    </tr>\n",
       "  </thead>\n",
       "  <tbody>\n",
       "    <tr>\n",
       "      <th>ham</th>\n",
       "      <td>4825</td>\n",
       "      <td>4516</td>\n",
       "      <td>Sorry, I'll call later</td>\n",
       "      <td>30</td>\n",
       "    </tr>\n",
       "    <tr>\n",
       "      <th>spam</th>\n",
       "      <td>747</td>\n",
       "      <td>653</td>\n",
       "      <td>Please call our customer service representativ...</td>\n",
       "      <td>4</td>\n",
       "    </tr>\n",
       "  </tbody>\n",
       "</table>\n",
       "</div>"
      ],
      "text/plain": [
       "      message                                                               \n",
       "        count unique                                                top freq\n",
       "label                                                                       \n",
       "ham      4825   4516                             Sorry, I'll call later   30\n",
       "spam      747    653  Please call our customer service representativ...    4"
      ]
     },
     "execution_count": 6,
     "metadata": {},
     "output_type": "execute_result"
    }
   ],
   "source": [
    "sms_messages.groupby(\"label\").describe()"
   ]
  },
  {
   "cell_type": "markdown",
   "metadata": {},
   "source": [
    "### Feature Engineering: Message Length"
   ]
  },
  {
   "cell_type": "code",
   "execution_count": 7,
   "metadata": {},
   "outputs": [
    {
     "data": {
      "text/html": [
       "<div>\n",
       "<style scoped>\n",
       "    .dataframe tbody tr th:only-of-type {\n",
       "        vertical-align: middle;\n",
       "    }\n",
       "\n",
       "    .dataframe tbody tr th {\n",
       "        vertical-align: top;\n",
       "    }\n",
       "\n",
       "    .dataframe thead th {\n",
       "        text-align: right;\n",
       "    }\n",
       "</style>\n",
       "<table border=\"1\" class=\"dataframe\">\n",
       "  <thead>\n",
       "    <tr style=\"text-align: right;\">\n",
       "      <th></th>\n",
       "      <th>label</th>\n",
       "      <th>message</th>\n",
       "      <th>length</th>\n",
       "    </tr>\n",
       "  </thead>\n",
       "  <tbody>\n",
       "    <tr>\n",
       "      <th>0</th>\n",
       "      <td>ham</td>\n",
       "      <td>Go until jurong point, crazy.. Available only ...</td>\n",
       "      <td>111</td>\n",
       "    </tr>\n",
       "    <tr>\n",
       "      <th>1</th>\n",
       "      <td>ham</td>\n",
       "      <td>Ok lar... Joking wif u oni...</td>\n",
       "      <td>29</td>\n",
       "    </tr>\n",
       "    <tr>\n",
       "      <th>2</th>\n",
       "      <td>spam</td>\n",
       "      <td>Free entry in 2 a wkly comp to win FA Cup fina...</td>\n",
       "      <td>155</td>\n",
       "    </tr>\n",
       "    <tr>\n",
       "      <th>3</th>\n",
       "      <td>ham</td>\n",
       "      <td>U dun say so early hor... U c already then say...</td>\n",
       "      <td>49</td>\n",
       "    </tr>\n",
       "    <tr>\n",
       "      <th>4</th>\n",
       "      <td>ham</td>\n",
       "      <td>Nah I don't think he goes to usf, he lives aro...</td>\n",
       "      <td>61</td>\n",
       "    </tr>\n",
       "  </tbody>\n",
       "</table>\n",
       "</div>"
      ],
      "text/plain": [
       "  label                                            message  length\n",
       "0   ham  Go until jurong point, crazy.. Available only ...     111\n",
       "1   ham                      Ok lar... Joking wif u oni...      29\n",
       "2  spam  Free entry in 2 a wkly comp to win FA Cup fina...     155\n",
       "3   ham  U dun say so early hor... U c already then say...      49\n",
       "4   ham  Nah I don't think he goes to usf, he lives aro...      61"
      ]
     },
     "execution_count": 7,
     "metadata": {},
     "output_type": "execute_result"
    }
   ],
   "source": [
    "sms_messages[\"length\"] = sms_messages[\"message\"].apply(len)\n",
    "sms_messages.head()"
   ]
  },
  {
   "cell_type": "markdown",
   "metadata": {},
   "source": [
    "### Compare Message Length by Label"
   ]
  },
  {
   "cell_type": "code",
   "execution_count": 8,
   "metadata": {},
   "outputs": [
    {
     "data": {
      "text/plain": [
       "Text(0.5, 0, 'Message Length')"
      ]
     },
     "execution_count": 8,
     "metadata": {},
     "output_type": "execute_result"
    },
    {
     "data": {
      "image/png": "[encoded data removed]",
      "text/plain": [
       "<Figure size 864x576 with 1 Axes>"
      ]
     },
     "metadata": {
      "needs_background": "light"
     },
     "output_type": "display_data"
    }
   ],
   "source": [
    "plt.figure(figsize=(12, 8))\n",
    "\n",
    "sms_messages[sms_messages.label==\"ham\"].length.plot(\n",
    "    bins=35, kind=\"hist\", color=\"green\", label=\"Ham messages\", alpha=0.6)\n",
    "sms_messages[sms_messages.label==\"spam\"].length.plot(\n",
    "    kind=\"hist\", color=\"red\", label=\"Spam messages\", alpha=0.6)\n",
    "\n",
    "plt.legend()\n",
    "plt.xlabel(\"Message Length\")"
   ]
  },
  {
   "cell_type": "markdown",
   "metadata": {},
   "source": [
    "### Most Common Words"
   ]
  },
  {
   "cell_type": "code",
   "execution_count": 9,
   "metadata": {},
   "outputs": [],
   "source": [
    "common_ham = Counter(\" \".join(sms_messages[sms_messages[\"label\"] == \"ham\"][\"message\"]).split()).most_common(20)\n",
    "df_common_ham = pd.DataFrame.from_dict(common_ham)\n",
    "df_common_ham = df_common_ham.rename(columns={0: \"Word\", 1: \"Count\"})\n",
    "\n",
    "common_spam = Counter(\" \".join(sms_messages[sms_messages[\"label\"] == \"spam\"][\"message\"]).split()).most_common(20)\n",
    "df_common_spam = pd.DataFrame.from_dict(common_spam)\n",
    "df_common_spam = df_common_spam.rename(columns={0: \"Word\", 1: \"Count\"})"
   ]
  },
  {
   "cell_type": "code",
   "execution_count": 10,
   "metadata": {},
   "outputs": [
    {
     "data": {
      "image/png": "[encoded data removed]",
      "text/plain": [
       "<Figure size 432x288 with 1 Axes>"
      ]
     },
     "metadata": {
      "needs_background": "light"
     },
     "output_type": "display_data"
    },
    {
     "data": {
      "image/png": "[encoded data removed]",
      "text/plain": [
       "<Figure size 432x288 with 1 Axes>"
      ]
     },
     "metadata": {
      "needs_background": "light"
     },
     "output_type": "display_data"
    }
   ],
   "source": [
    "df_common_ham.plot.bar(legend = False, color = \"green\")\n",
    "y_pos = np.arange(len(df_common_ham[\"Word\"]))\n",
    "plt.xticks(y_pos, df_common_ham[\"Word\"])\n",
    "plt.title(\"Most frequent word in the ham messages\")\n",
    "plt.xlabel(\"Words\")\n",
    "plt.ylabel(\"Count\")\n",
    "plt.show()\n",
    "\n",
    "df_common_spam.plot.bar(legend = False, color = \"red\")\n",
    "y_pos = np.arange(len(df_common_spam[\"Word\"]))\n",
    "plt.xticks(y_pos, df_common_spam[\"Word\"])\n",
    "plt.title(\"Most frequent word in the spam messages\")\n",
    "plt.xlabel(\"Words\")\n",
    "plt.ylabel(\"Count\")\n",
    "plt.show()"
   ]
  },
  {
   "cell_type": "markdown",
   "metadata": {},
   "source": [
    "## Build the Model"
   ]
  },
  {
   "cell_type": "markdown",
   "metadata": {},
   "source": [
    "### Preprocessing"
   ]
  },
  {
   "cell_type": "code",
   "execution_count": 11,
   "metadata": {},
   "outputs": [],
   "source": [
    "vocabular_size = 400\n",
    "oov_token = \"<OOV>\"\n",
    "max_length = 250\n",
    "embedding_dimension = 16\n",
    "number_of_epochs = 50"
   ]
  },
  {
   "cell_type": "code",
   "execution_count": 12,
   "metadata": {},
   "outputs": [
    {
     "data": {
      "text/html": [
       "<div>\n",
       "<style scoped>\n",
       "    .dataframe tbody tr th:only-of-type {\n",
       "        vertical-align: middle;\n",
       "    }\n",
       "\n",
       "    .dataframe tbody tr th {\n",
       "        vertical-align: top;\n",
       "    }\n",
       "\n",
       "    .dataframe thead th {\n",
       "        text-align: right;\n",
       "    }\n",
       "</style>\n",
       "<table border=\"1\" class=\"dataframe\">\n",
       "  <thead>\n",
       "    <tr style=\"text-align: right;\">\n",
       "      <th></th>\n",
       "      <th>label</th>\n",
       "      <th>message</th>\n",
       "      <th>length</th>\n",
       "    </tr>\n",
       "  </thead>\n",
       "  <tbody>\n",
       "    <tr>\n",
       "      <th>0</th>\n",
       "      <td>0</td>\n",
       "      <td>Go until jurong point, crazy.. Available only ...</td>\n",
       "      <td>111</td>\n",
       "    </tr>\n",
       "    <tr>\n",
       "      <th>1</th>\n",
       "      <td>0</td>\n",
       "      <td>Ok lar... Joking wif u oni...</td>\n",
       "      <td>29</td>\n",
       "    </tr>\n",
       "    <tr>\n",
       "      <th>2</th>\n",
       "      <td>1</td>\n",
       "      <td>Free entry in 2 a wkly comp to win FA Cup fina...</td>\n",
       "      <td>155</td>\n",
       "    </tr>\n",
       "    <tr>\n",
       "      <th>3</th>\n",
       "      <td>0</td>\n",
       "      <td>U dun say so early hor... U c already then say...</td>\n",
       "      <td>49</td>\n",
       "    </tr>\n",
       "    <tr>\n",
       "      <th>4</th>\n",
       "      <td>0</td>\n",
       "      <td>Nah I don't think he goes to usf, he lives aro...</td>\n",
       "      <td>61</td>\n",
       "    </tr>\n",
       "  </tbody>\n",
       "</table>\n",
       "</div>"
      ],
      "text/plain": [
       "   label                                            message  length\n",
       "0      0  Go until jurong point, crazy.. Available only ...     111\n",
       "1      0                      Ok lar... Joking wif u oni...      29\n",
       "2      1  Free entry in 2 a wkly comp to win FA Cup fina...     155\n",
       "3      0  U dun say so early hor... U c already then say...      49\n",
       "4      0  Nah I don't think he goes to usf, he lives aro...      61"
      ]
     },
     "execution_count": 12,
     "metadata": {},
     "output_type": "execute_result"
    }
   ],
   "source": [
    "column_encoding = ({\"ham\": 0, \"spam\": 1})\n",
    "sms_messages = sms_messages.replace(column_encoding)\n",
    "sms_messages.head()"
   ]
  },
  {
   "cell_type": "code",
   "execution_count": 21,
   "metadata": {},
   "outputs": [],
   "source": [
    "X = sms_messages[\"message\"]\n",
    "Y = sms_messages[\"label\"]"
   ]
  },
  {
   "cell_type": "code",
   "execution_count": 22,
   "metadata": {},
   "outputs": [],
   "source": [
    "tokenizer = Tokenizer(num_words = vocabular_size, oov_token = oov_token)\n",
    "tokenizer.fit_on_texts(X)\n",
    "X = tokenizer.texts_to_sequences(X)"
   ]
  },
  {
   "cell_type": "code",
   "execution_count": 23,
   "metadata": {},
   "outputs": [
    {
     "name": "stderr",
     "output_type": "stream",
     "text": [
      "<ipython-input-23-67c34fac1eac>:1: VisibleDeprecationWarning: Creating an ndarray from ragged nested sequences (which is a list-or-tuple of lists-or-tuples-or ndarrays with different lengths or shapes) is deprecated. If you meant to do this, you must specify 'dtype=object' when creating the ndarray\n",
      "  X = np.array(X)\n"
     ]
    }
   ],
   "source": [
    "X = np.array(X)\n",
    "y = np.array(Y)"
   ]
  },
  {
   "cell_type": "code",
   "execution_count": 24,
   "metadata": {},
   "outputs": [],
   "source": [
    "X = pad_sequences(X, maxlen = max_length)"
   ]
  },
  {
   "cell_type": "code",
   "execution_count": 25,
   "metadata": {},
   "outputs": [],
   "source": [
    "X_train, X_test, y_train, y_test = train_test_split(X, y, test_size = 0.25, random_state = 7)"
   ]
  },
  {
   "cell_type": "markdown",
   "metadata": {},
   "source": [
    "### Design the Model Architecture"
   ]
  },
  {
   "cell_type": "code",
   "execution_count": 26,
   "metadata": {},
   "outputs": [
    {
     "name": "stdout",
     "output_type": "stream",
     "text": [
      "Model: \"sequential\"\n",
      "_________________________________________________________________\n",
      "Layer (type)                 Output Shape              Param #   \n",
      "=================================================================\n",
      "embedding (Embedding)        (None, 250, 16)           6400      \n",
      "_________________________________________________________________\n",
      "global_average_pooling1d (Gl (None, 16)                0         \n",
      "_________________________________________________________________\n",
      "dense (Dense)                (None, 24)                408       \n",
      "_________________________________________________________________\n",
      "dense_1 (Dense)              (None, 1)                 25        \n",
      "=================================================================\n",
      "Total params: 6,833\n",
      "Trainable params: 6,833\n",
      "Non-trainable params: 0\n",
      "_________________________________________________________________\n"
     ]
    }
   ],
   "source": [
    "model = tf.keras.Sequential([\n",
    "    tf.keras.layers.Embedding(vocabular_size, embedding_dimension, input_length = max_length),\n",
    "    tf.keras.layers.GlobalAveragePooling1D(),\n",
    "    tf.keras.layers.Dense(24, activation = \"relu\"),\n",
    "    tf.keras.layers.Dense(1, activation = \"sigmoid\")\n",
    "])\n",
    "\n",
    "model.compile(loss = \"binary_crossentropy\", optimizer = \"adam\", metrics = [\"accuracy\"])\n",
    "model.summary()"
   ]
  },
  {
   "cell_type": "code",
   "execution_count": 27,
   "metadata": {},
   "outputs": [
    {
     "data": {
      "image/png": "[encoded data removed]",
      "text/plain": [
       "<IPython.core.display.Image object>"
      ]
     },
     "execution_count": 27,
     "metadata": {},
     "output_type": "execute_result"
    }
   ],
   "source": [
    "# Requires graphviz installed to work\n",
    "plot_model(model, to_file='model_plot.png', show_shapes=True, show_layer_names=True)"
   ]
  },
  {
   "cell_type": "code",
   "execution_count": 28,
   "metadata": {},
   "outputs": [
    {
     "name": "stdout",
     "output_type": "stream",
     "text": [
      "Epoch 1/50\n",
      "131/131 - 0s - loss: 0.4953 - accuracy: 0.8648 - val_loss: 0.3759 - val_accuracy: 0.8693\n",
      "Epoch 2/50\n",
      "131/131 - 0s - loss: 0.3784 - accuracy: 0.8648 - val_loss: 0.3635 - val_accuracy: 0.8693\n",
      "Epoch 3/50\n",
      "131/131 - 0s - loss: 0.3650 - accuracy: 0.8648 - val_loss: 0.3479 - val_accuracy: 0.8693\n",
      "Epoch 4/50\n",
      "131/131 - 0s - loss: 0.3446 - accuracy: 0.8648 - val_loss: 0.3224 - val_accuracy: 0.8693\n",
      "Epoch 5/50\n",
      "131/131 - 0s - loss: 0.3085 - accuracy: 0.8648 - val_loss: 0.2737 - val_accuracy: 0.8693\n",
      "Epoch 6/50\n",
      "131/131 - 0s - loss: 0.2466 - accuracy: 0.8751 - val_loss: 0.2046 - val_accuracy: 0.9153\n",
      "Epoch 7/50\n",
      "131/131 - 0s - loss: 0.1858 - accuracy: 0.9285 - val_loss: 0.1553 - val_accuracy: 0.9490\n",
      "Epoch 8/50\n",
      "131/131 - 0s - loss: 0.1493 - accuracy: 0.9529 - val_loss: 0.1278 - val_accuracy: 0.9605\n",
      "Epoch 9/50\n",
      "131/131 - 0s - loss: 0.1255 - accuracy: 0.9600 - val_loss: 0.1093 - val_accuracy: 0.9648\n",
      "Epoch 10/50\n",
      "131/131 - 0s - loss: 0.1111 - accuracy: 0.9646 - val_loss: 0.0961 - val_accuracy: 0.9648\n",
      "Epoch 11/50\n",
      "131/131 - 0s - loss: 0.0990 - accuracy: 0.9687 - val_loss: 0.0857 - val_accuracy: 0.9706\n",
      "Epoch 12/50\n",
      "131/131 - 0s - loss: 0.0893 - accuracy: 0.9713 - val_loss: 0.0776 - val_accuracy: 0.9727\n",
      "Epoch 13/50\n",
      "131/131 - 0s - loss: 0.0813 - accuracy: 0.9734 - val_loss: 0.0718 - val_accuracy: 0.9749\n",
      "Epoch 14/50\n",
      "131/131 - 0s - loss: 0.0751 - accuracy: 0.9758 - val_loss: 0.0674 - val_accuracy: 0.9777\n",
      "Epoch 15/50\n",
      "131/131 - 0s - loss: 0.0703 - accuracy: 0.9773 - val_loss: 0.0656 - val_accuracy: 0.9777\n",
      "Epoch 16/50\n",
      "131/131 - 0s - loss: 0.0652 - accuracy: 0.9785 - val_loss: 0.0645 - val_accuracy: 0.9777\n",
      "Epoch 17/50\n",
      "131/131 - 0s - loss: 0.0634 - accuracy: 0.9792 - val_loss: 0.0600 - val_accuracy: 0.9792\n",
      "Epoch 18/50\n",
      "131/131 - 0s - loss: 0.0587 - accuracy: 0.9806 - val_loss: 0.0578 - val_accuracy: 0.9806\n",
      "Epoch 19/50\n",
      "131/131 - 0s - loss: 0.0570 - accuracy: 0.9806 - val_loss: 0.0555 - val_accuracy: 0.9806\n",
      "Epoch 20/50\n",
      "131/131 - 0s - loss: 0.0543 - accuracy: 0.9813 - val_loss: 0.0549 - val_accuracy: 0.9821\n",
      "Epoch 21/50\n",
      "131/131 - 0s - loss: 0.0528 - accuracy: 0.9830 - val_loss: 0.0537 - val_accuracy: 0.9828\n",
      "Epoch 22/50\n",
      "131/131 - 0s - loss: 0.0505 - accuracy: 0.9825 - val_loss: 0.0530 - val_accuracy: 0.9835\n",
      "Epoch 23/50\n",
      "131/131 - 0s - loss: 0.0480 - accuracy: 0.9852 - val_loss: 0.0585 - val_accuracy: 0.9821\n",
      "Epoch 24/50\n",
      "131/131 - 0s - loss: 0.0471 - accuracy: 0.9842 - val_loss: 0.0520 - val_accuracy: 0.9856\n",
      "Epoch 25/50\n",
      "131/131 - 0s - loss: 0.0451 - accuracy: 0.9842 - val_loss: 0.0566 - val_accuracy: 0.9799\n",
      "Epoch 26/50\n",
      "131/131 - 0s - loss: 0.0451 - accuracy: 0.9847 - val_loss: 0.0519 - val_accuracy: 0.9856\n",
      "Epoch 27/50\n",
      "131/131 - 0s - loss: 0.0424 - accuracy: 0.9868 - val_loss: 0.0523 - val_accuracy: 0.9856\n",
      "Epoch 28/50\n",
      "131/131 - 0s - loss: 0.0427 - accuracy: 0.9864 - val_loss: 0.0510 - val_accuracy: 0.9864\n",
      "Epoch 29/50\n",
      "131/131 - 0s - loss: 0.0402 - accuracy: 0.9866 - val_loss: 0.0511 - val_accuracy: 0.9842\n",
      "Epoch 30/50\n",
      "131/131 - 0s - loss: 0.0396 - accuracy: 0.9876 - val_loss: 0.0509 - val_accuracy: 0.9864\n",
      "Epoch 31/50\n",
      "131/131 - 0s - loss: 0.0385 - accuracy: 0.9868 - val_loss: 0.0507 - val_accuracy: 0.9856\n",
      "Epoch 32/50\n",
      "131/131 - 0s - loss: 0.0380 - accuracy: 0.9880 - val_loss: 0.0517 - val_accuracy: 0.9828\n",
      "Epoch 33/50\n",
      "131/131 - 0s - loss: 0.0388 - accuracy: 0.9880 - val_loss: 0.0524 - val_accuracy: 0.9828\n",
      "Epoch 34/50\n",
      "131/131 - 0s - loss: 0.0376 - accuracy: 0.9890 - val_loss: 0.0511 - val_accuracy: 0.9842\n",
      "Epoch 35/50\n",
      "131/131 - 0s - loss: 0.0360 - accuracy: 0.9890 - val_loss: 0.0509 - val_accuracy: 0.9856\n",
      "Epoch 36/50\n",
      "131/131 - 0s - loss: 0.0365 - accuracy: 0.9880 - val_loss: 0.0514 - val_accuracy: 0.9849\n",
      "Epoch 37/50\n",
      "131/131 - 0s - loss: 0.0348 - accuracy: 0.9888 - val_loss: 0.0628 - val_accuracy: 0.9849\n",
      "Epoch 38/50\n",
      "131/131 - 0s - loss: 0.0340 - accuracy: 0.9890 - val_loss: 0.0549 - val_accuracy: 0.9821\n",
      "Epoch 39/50\n",
      "131/131 - 0s - loss: 0.0330 - accuracy: 0.9902 - val_loss: 0.0542 - val_accuracy: 0.9864\n",
      "Epoch 40/50\n",
      "131/131 - 0s - loss: 0.0323 - accuracy: 0.9892 - val_loss: 0.0525 - val_accuracy: 0.9849\n",
      "Epoch 41/50\n",
      "131/131 - 0s - loss: 0.0324 - accuracy: 0.9899 - val_loss: 0.0601 - val_accuracy: 0.9849\n",
      "Epoch 42/50\n",
      "131/131 - 0s - loss: 0.0310 - accuracy: 0.9911 - val_loss: 0.0529 - val_accuracy: 0.9842\n",
      "Epoch 43/50\n",
      "131/131 - 0s - loss: 0.0313 - accuracy: 0.9904 - val_loss: 0.0553 - val_accuracy: 0.9864\n",
      "Epoch 44/50\n",
      "131/131 - 0s - loss: 0.0295 - accuracy: 0.9907 - val_loss: 0.0607 - val_accuracy: 0.9849\n",
      "Epoch 45/50\n",
      "131/131 - 0s - loss: 0.0298 - accuracy: 0.9904 - val_loss: 0.0560 - val_accuracy: 0.9864\n",
      "Epoch 46/50\n",
      "131/131 - 0s - loss: 0.0287 - accuracy: 0.9909 - val_loss: 0.0569 - val_accuracy: 0.9864\n",
      "Epoch 47/50\n",
      "131/131 - 0s - loss: 0.0286 - accuracy: 0.9911 - val_loss: 0.0543 - val_accuracy: 0.9849\n",
      "Epoch 48/50\n",
      "131/131 - 0s - loss: 0.0277 - accuracy: 0.9916 - val_loss: 0.0551 - val_accuracy: 0.9849\n",
      "Epoch 49/50\n",
      "131/131 - 0s - loss: 0.0288 - accuracy: 0.9909 - val_loss: 0.0559 - val_accuracy: 0.9849\n",
      "Epoch 50/50\n",
      "131/131 - 0s - loss: 0.0276 - accuracy: 0.9919 - val_loss: 0.0577 - val_accuracy: 0.9856\n"
     ]
    }
   ],
   "source": [
    "history = model.fit(X_train, y_train, epochs = number_of_epochs, validation_data = (X_test, y_test), verbose = 2)"
   ]
  },
  {
   "cell_type": "code",
   "execution_count": 31,
   "metadata": {},
   "outputs": [
    {
     "name": "stdout",
     "output_type": "stream",
     "text": [
      "44/44 [==============================] - 0s 2ms/step - loss: 0.0577 - accuracy: 0.9856\n",
      "[+] Accuracy: 98.56%\n"
     ]
    }
   ],
   "source": [
    "result = model.evaluate(X_test, y_test)\n",
    "loss = result[0]\n",
    "accuracy = result[1]\n",
    "\n",
    "print(f\"[+] Accuracy: {accuracy * 100:.2f}%\")"
   ]
  },
  {
   "cell_type": "markdown",
   "metadata": {},
   "source": [
    "### Save the Model"
   ]
  },
  {
   "cell_type": "code",
   "execution_count": 30,
   "metadata": {},
   "outputs": [
    {
     "name": "stdout",
     "output_type": "stream",
     "text": [
      "WARNING:tensorflow:From /usr/local/lib/python3.8/site-packages/tensorflow/python/training/tracking/tracking.py:111: Model.state_updates (from tensorflow.python.keras.engine.training) is deprecated and will be removed in a future version.\n",
      "Instructions for updating:\n",
      "This property should not be used in TensorFlow 2.0, as updates are applied automatically.\n",
      "WARNING:tensorflow:From /usr/local/lib/python3.8/site-packages/tensorflow/python/training/tracking/tracking.py:111: Layer.updates (from tensorflow.python.keras.engine.base_layer) is deprecated and will be removed in a future version.\n",
      "Instructions for updating:\n",
      "This property should not be used in TensorFlow 2.0, as updates are applied automatically.\n",
      "INFO:tensorflow:Assets written to: ../model/assets\n"
     ]
    }
   ],
   "source": [
    "tf.keras.models.save_model(\n",
    "    model,\n",
    "    \"../model\",\n",
    ")"
   ]
  },
  {
   "cell_type": "markdown",
   "metadata": {},
   "source": [
    "### Test Prediction"
   ]
  },
  {
   "cell_type": "code",
   "execution_count": 32,
   "metadata": {},
   "outputs": [],
   "source": [
    "import pandas as pd\n",
    "import tensorflow as tf\n",
    "from keras.preprocessing.text import Tokenizer\n",
    "from keras.preprocessing.sequence import pad_sequences\n",
    "\n",
    "loaded_model = tf.keras.models.load_model(\n",
    "    \"../model\",\n",
    "    custom_objects = None,\n",
    "    compile = True,\n",
    ")"
   ]
  },
  {
   "cell_type": "code",
   "execution_count": 33,
   "metadata": {},
   "outputs": [],
   "source": [
    "sms_messages = pd.read_csv('../data/spam.csv', encoding='latin1')\n",
    "sms_messages = sms_messages.iloc[:, [1]]\n",
    "sms_messages.columns = [\"message\"]\n",
    "X = sms_messages[\"message\"]\n",
    "\n",
    "def get_predictions(txts):\n",
    "    tokenizer = Tokenizer(num_words = 400, oov_token = \"<OOV>\")\n",
    "    tokenizer.fit_on_texts(X)\n",
    "    \n",
    "    txts = tokenizer.texts_to_sequences(txts)\n",
    "    txts = pad_sequences(txts, maxlen=250)\n",
    "    preds = loaded_model.predict(txts)\n",
    "    print(preds)\n",
    "    \n",
    "    if(preds[0] > 0.5):\n",
    "        print(\"SPAM MESSAGE\")\n",
    "    else:\n",
    "        print('NOT SPAM')"
   ]
  },
  {
   "cell_type": "code",
   "execution_count": 34,
   "metadata": {},
   "outputs": [
    {
     "name": "stdout",
     "output_type": "stream",
     "text": [
      "[[0.72965974]]\n",
      "SPAM MESSAGE\n"
     ]
    }
   ],
   "source": [
    "# Spam message\n",
    "txts=[\"Free entry in 2 a weekly competition to win FA Cup final tkts 21st May 2005\"]\n",
    "get_predictions(txts)"
   ]
  },
  {
   "cell_type": "code",
   "execution_count": 35,
   "metadata": {},
   "outputs": [
    {
     "name": "stdout",
     "output_type": "stream",
     "text": [
      "[[2.1789306e-06]]\n",
      "NOT SPAM\n"
     ]
    }
   ],
   "source": [
    "# Not Spam\n",
    "txts = [\"Hi man, I was wondering if we can meet tomorrow.\"]\n",
    "get_predictions(txts)"
   ]
  },
  {
   "cell_type": "code",
   "execution_count": null,
   "metadata": {},
   "outputs": [],
   "source": []
  }
 ],
 "metadata": {
  "kernelspec": {
   "display_name": "Python 3",
   "language": "python",
   "name": "python3"
  },
  "language_info": {
   "codemirror_mode": {
    "name": "ipython",
    "version": 3
   },
   "file_extension": ".py",
   "mimetype": "text/x-python",
   "name": "python",
   "nbconvert_exporter": "python",
   "pygments_lexer": "ipython3",
   "version": "3.8.6"
  }
 },
 "nbformat": 4,
 "nbformat_minor": 4
}
